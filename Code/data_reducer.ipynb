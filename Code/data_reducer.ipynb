{
  "nbformat": 4,
  "nbformat_minor": 0,
  "metadata": {
    "colab": {
      "name": "data_reducer.ipynb",
      "provenance": [],
      "collapsed_sections": []
    },
    "kernelspec": {
      "name": "python3",
      "display_name": "Python 3"
    }
  },
  "cells": [
    {
      "cell_type": "code",
      "metadata": {
        "colab": {
          "base_uri": "https://localhost:8080/"
        },
        "id": "zhUZGR5iPspY",
        "outputId": "752fab07-1848-4832-c90c-d1c696087c88"
      },
      "source": [
        "#Load the Drive helper and mount\n",
        "from google.colab import drive\n",
        "drive.mount('/content/drive')"
      ],
      "execution_count": 1,
      "outputs": [
        {
          "output_type": "stream",
          "text": [
            "Mounted at /content/drive\n"
          ],
          "name": "stdout"
        }
      ]
    },
    {
      "cell_type": "code",
      "metadata": {
        "id": "4dror6OcP7Za"
      },
      "source": [
        "# Past Installs \n",
        "!pip install sunpy\n",
        "!pip install zeep\n",
        "!pip install drms\n",
        "!pip install aiapy\n",
        "!pip install wget"
      ],
      "execution_count": null,
      "outputs": []
    },
    {
      "cell_type": "code",
      "metadata": {
        "id": "2gl_QmpxQD8Y"
      },
      "source": [
        "import astropy.units as u\n",
        "from astropy.coordinates import SkyCoord\n",
        "from astropy.io import fits\n",
        "import sunpy.map\n",
        "from sunpy.net import Fido, attrs as a\n",
        "from matplotlib import patches\n",
        "import matplotlib.pyplot as plt\n",
        "import numpy as np\n",
        "from aiapy.calibrate import register, update_pointing, normalize_exposure\n",
        "import os, os.path\n",
        "import pandas as pd\n",
        "import random"
      ],
      "execution_count": 3,
      "outputs": []
    },
    {
      "cell_type": "code",
      "metadata": {
        "id": "1LNZnjj_QGEb"
      },
      "source": [
        "def mean_pool(square_array,ratio):\n",
        "  \"\"\"\n",
        "  Function to downsample a square array after applying a meanpool\n",
        "\n",
        "  Inputs\n",
        "  ------\n",
        "    square_array : Array to be downsampled. Must be a square array with axes\n",
        "                   lenghts that can be divisible by ratio\n",
        "    ratio        : Downsampling ratio. i.e. a 1024x1024 array with a ratio of 4\n",
        "                   will be downsampled to 256x256\n",
        "  \n",
        "  Outputs\n",
        "  -------\n",
        "    Returns the downsampled array\n",
        "  \"\"\"\n",
        "  # Dimensions of array\n",
        "  alen_1 = np.size(square_array,0)\n",
        "  alen_2 = np.size(square_array,1)\n",
        "  # Confirming array is square\n",
        "  if (alen_1!=alen_2):\n",
        "    print(\"ERROR: ARRAY NOT SQUARE\")\n",
        "  else:\n",
        "    return square_array.reshape(int(alen_1/ratio), int(ratio), \n",
        "                                int(alen_1/ratio), int(ratio)).mean(axis=(1,3))\n"
      ],
      "execution_count": 6,
      "outputs": []
    },
    {
      "cell_type": "code",
      "metadata": {
        "id": "MBreX8A_QJMt"
      },
      "source": [
        "def convert_to_gz(fits_folder, down_sample_factor):\n",
        "  \"\"\"\n",
        "  This script converts all fits files in a given folder to compressed \n",
        "  .gz numpy arrays, after preforming a meanpool downsample.\n",
        "\n",
        "  Inputs\n",
        "  ------\n",
        "    fits_folder       : string folder path where the fits files to be \n",
        "                        downsampled are located\n",
        "    down_sample_factor: int representing the dimension reduction size for the \n",
        "                        downsample. (i.e. a down_sample_factor of 8 would turn \n",
        "                        4096x4096 fits files to 512x512 compressed arrays )\n",
        "  \"\"\"\n",
        "  # Iterating over each file\n",
        "  for filename in os.listdir(fits_folder):\n",
        "    if filename.endswith(\".fits\"): \n",
        "         #opening file\n",
        "         fits_file = fits.open( fits_folder+filename , dtype=np.int16 )\n",
        "         #saving downsampled file\n",
        "         np.savetxt(X=mean_pool(np.array(fits_file[1].data),down_sample_factor),\n",
        "                    fname=fits_folder+filename[:-5]+\"_int1.gz\")\n",
        "         print('done')"
      ],
      "execution_count": 7,
      "outputs": []
    },
    {
      "cell_type": "code",
      "metadata": {
        "id": "2iHkZNXpRSmD"
      },
      "source": [
        "##### Script\n",
        "event_path = '/content/drive/Shareddrives/Phys 477 - Astro Project/sun_test_images/171_xray_fits/'\n",
        "null_path = '/content/drive/Shareddrives/Phys 477 - Astro Project/sun_test_images/171_xray_null/'\n",
        "\n",
        "convert_to_gz(event_path,8)\n",
        "convert_to_gz(event_path,8)"
      ],
      "execution_count": 8,
      "outputs": []
    },
    {
      "cell_type": "code",
      "metadata": {
        "id": "g1PQc4yjRgYE"
      },
      "source": [
        ""
      ],
      "execution_count": null,
      "outputs": []
    }
  ]
}